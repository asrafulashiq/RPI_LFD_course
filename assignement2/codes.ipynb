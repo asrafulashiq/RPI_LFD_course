{
 "cells": [
  {
   "cell_type": "code",
   "execution_count": 169,
   "source": [
    "%matplotlib inline\n",
    "import numpy as np\n",
    "import matplotlib.pyplot as plt\n",
    "from tqdm import tqdm"
   ],
   "outputs": [],
   "metadata": {}
  },
  {
   "cell_type": "code",
   "execution_count": 170,
   "source": [
    "def flip():\n",
    "    if np.random.rand() > 0.5:\n",
    "        return 0  # head\n",
    "    else:\n",
    "        return 1  # tail\n",
    "\n",
    "def flip_10():\n",
    "    res = np.zeros(10)\n",
    "    for i in range(10):\n",
    "        res[i] = flip()\n",
    "    return (res == 0).astype(float).mean()"
   ],
   "outputs": [],
   "metadata": {}
  },
  {
   "cell_type": "code",
   "execution_count": 171,
   "source": [
    "# Result for one run\n",
    "def single_run(num_coins=1000):\n",
    "    run_flip = [flip_10() for _ in range(num_coins)]\n",
    "    # run_flip = np.round(np.random.rand(num_coins), 1)\n",
    "    # nu_1\n",
    "    nu_1 = run_flip[0]\n",
    "\n",
    "    # nu_rand\n",
    "    nu_rand = np.random.choice(run_flip)\n",
    "\n",
    "    # nu_min\n",
    "    nu_min = np.min(run_flip)\n",
    "\n",
    "    return nu_1, nu_rand, nu_min"
   ],
   "outputs": [],
   "metadata": {}
  },
  {
   "cell_type": "code",
   "execution_count": 172,
   "source": [
    "N = 100000\n",
    "list_1 = np.zeros(N)\n",
    "list_rand = np.zeros(N)\n",
    "list_min = np.zeros(N)\n",
    "\n",
    "for i in tqdm(range(N)):\n",
    "    nu_1, nu_rand, nu_min = single_run()\n",
    "    list_1[i] = nu_1\n",
    "    list_rand[i] = nu_rand\n",
    "    list_min[i] = nu_min\n"
   ],
   "outputs": [
    {
     "output_type": "stream",
     "name": "stderr",
     "text": [
      "100%|██████████| 100000/100000 [48:12<00:00, 34.57it/s]\n"
     ]
    }
   ],
   "metadata": {}
  },
  {
   "cell_type": "code",
   "execution_count": 144,
   "source": [
    "# plot histograms\n",
    "fig, axes = plt.subplots(3, 1, figsize=(7, 8))\n",
    "axes[0].hist(list_1, range=(0,1), bins=10)\n",
    "axes[1].hist(list_rand, range=(0,1), bins=10)\n",
    "axes[2].hist(list_min, range=(0,1), bins=10)"
   ],
   "outputs": [
    {
     "output_type": "execute_result",
     "data": {
      "text/plain": [
       "(array([6287., 3713.,    0.,    0.,    0.,    0.,    0.,    0.,    0.,\n",
       "           0.]),\n",
       " array([0. , 0.1, 0.2, 0.3, 0.4, 0.5, 0.6, 0.7, 0.8, 0.9, 1. ]),\n",
       " <a list of 10 Patch objects>)"
      ]
     },
     "metadata": {},
     "execution_count": 144
    },
    {
     "output_type": "display_data",
     "data": {
      "image/png": "[encoded data removed]",
      "text/plain": [
       "<Figure size 504x576 with 3 Axes>"
      ]
     },
     "metadata": {
      "needs_background": "light"
     }
    }
   ],
   "metadata": {}
  },
  {
   "cell_type": "code",
   "execution_count": 176,
   "source": [
    "# P(|v-0.5| > eps)\n",
    "# v > 0.5+eps or v < 0.5-eps\n",
    "\n",
    "def plot_bound(list_num, mu=0.5, **kwargs):\n",
    "    _end = 0.45\n",
    "    eps = np.linspace(0, _end, 100)\n",
    "    n_size = len(list_num)\n",
    "    x = np.zeros(len(eps))\n",
    "    for i in range(len(eps)):\n",
    "        e = eps[i]\n",
    "        val = np.count_nonzero(list_num > (mu + e)) + np.count_nonzero(list_num < (mu - e))\n",
    "        x[i] = val / n_size\n",
    "\n",
    "    # plt.figure()\n",
    "    plt.plot(eps, x, **kwargs)\n"
   ],
   "outputs": [],
   "metadata": {}
  },
  {
   "cell_type": "code",
   "execution_count": 177,
   "source": [
    "eps = np.array([0.1, 0.2, 0.3])\n",
    "z = (list_1.reshape(len(list_1), 1) > eps)\n",
    "# np.count_nonzero(z)\n",
    "z.shape"
   ],
   "outputs": [
    {
     "output_type": "execute_result",
     "data": {
      "text/plain": [
       "(100000, 3)"
      ]
     },
     "metadata": {},
     "execution_count": 177
    }
   ],
   "metadata": {}
  },
  {
   "cell_type": "code",
   "execution_count": 182,
   "source": [
    "plot_bound(list_1, label=r'$\\nu_1$')\n",
    "plot_bound(list_rand, label=r'$\\nu_{{rand}}$')\n",
    "plot_bound(list_min, label=r'$\\nu_{{min}}$')\n",
    "\n",
    "x_hoff = np.linspace(0, 0.45, 100)\n",
    "hoff = 2 * np.exp(-2*(x_hoff**2)*10)\n",
    "plt.plot(x_hoff, hoff, label=r'hoeffding')\n",
    "plt.legend()"
   ],
   "outputs": [
    {
     "output_type": "execute_result",
     "data": {
      "text/plain": [
       "<matplotlib.legend.Legend at 0x7fcc7027b0d0>"
      ]
     },
     "metadata": {},
     "execution_count": 182
    },
    {
     "output_type": "display_data",
     "data": {
      "image/png": "[encoded data removed]",
      "text/plain": [
       "<Figure size 432x288 with 1 Axes>"
      ]
     },
     "metadata": {
      "needs_background": "light"
     }
    }
   ],
   "metadata": {}
  }
 ],
 "metadata": {
  "orig_nbformat": 4,
  "language_info": {
   "name": "python",
   "version": "3.7.4",
   "mimetype": "text/x-python",
   "codemirror_mode": {
    "name": "ipython",
    "version": 3
   },
   "pygments_lexer": "ipython3",
   "nbconvert_exporter": "python",
   "file_extension": ".py"
  },
  "kernelspec": {
   "name": "python3",
   "display_name": "Python 3.7.4 64-bit ('base': conda)"
  },
  "interpreter": {
   "hash": "19f89a0817607bfc657fd284dd706df77cdeb48d05126466acdf5bb89525e578"
  }
 },
 "nbformat": 4,
 "nbformat_minor": 2
}