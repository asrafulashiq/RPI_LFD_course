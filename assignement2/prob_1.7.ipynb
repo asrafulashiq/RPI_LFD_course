{
 "cells": [
  {
   "cell_type": "code",
   "execution_count": 1,
   "source": [
    "%matplotlib inline\n",
    "import numpy as np\n",
    "import matplotlib.pyplot as plt\n",
    "from scipy.stats import binom"
   ],
   "outputs": [],
   "metadata": {}
  },
  {
   "cell_type": "code",
   "execution_count": 2,
   "source": [
    "# calculate P(k=k1,k2,k3)\n",
    "def calc_prob(ks: list, N=6, mu=0.5):\n",
    "    res = 0\n",
    "    for k in ks:\n",
    "        res += binom.pmf(k, N, mu)\n",
    "    return res"
   ],
   "outputs": [],
   "metadata": {}
  },
  {
   "cell_type": "code",
   "execution_count": 3,
   "source": [
    "def calc_prob_abs(eps=0.1, N=6, mu=0.5):\n",
    "    # P(|v-0.5| >eps) = P(|k - 3| > 6*eps)\n",
    "    all_ks = np.arange(0, N+1)\n",
    "    ks = all_ks[np.abs(all_ks - 3) > 6*eps]\n",
    "    return calc_prob(ks, N, mu)  # P(|v-0.5| >eps)"
   ],
   "outputs": [],
   "metadata": {}
  },
  {
   "cell_type": "code",
   "execution_count": 4,
   "source": [
    "def get_prob_max(eps=0.1, N=6, mu=0.5):\n",
    "    P = calc_prob_abs(eps, N, mu)\n",
    "    return 2*P - P**2"
   ],
   "outputs": [],
   "metadata": {}
  },
  {
   "cell_type": "code",
   "execution_count": 5,
   "source": [
    "list_eps = np.linspace(0, 1, 40)\n",
    "list_prob = [get_prob_max(eps, N=6, mu=0.5) for eps in list_eps]\n",
    "plt.plot(list_eps, list_prob, label='prob')\n",
    "\n",
    "hoeffding_bound = 2* 2 * np.exp(-2*6*list_eps**2)\n",
    "plt.plot(list_eps, hoeffding_bound, label='hoeffding_bound')\n",
    "plt.legend()"
   ],
   "outputs": [
    {
     "output_type": "execute_result",
     "data": {
      "text/plain": [
       "<matplotlib.legend.Legend at 0x7fc4d04e7250>"
      ]
     },
     "metadata": {},
     "execution_count": 5
    },
    {
     "output_type": "display_data",
     "data": {
      "image/png": "[encoded data removed]",
      "text/plain": [
       "<Figure size 432x288 with 1 Axes>"
      ]
     },
     "metadata": {
      "needs_background": "light"
     }
    }
   ],
   "metadata": {}
  },
  {
   "cell_type": "code",
   "execution_count": null,
   "source": [],
   "outputs": [],
   "metadata": {}
  }
 ],
 "metadata": {
  "orig_nbformat": 4,
  "language_info": {
   "name": "python",
   "version": "3.7.4",
   "mimetype": "text/x-python",
   "codemirror_mode": {
    "name": "ipython",
    "version": 3
   },
   "pygments_lexer": "ipython3",
   "nbconvert_exporter": "python",
   "file_extension": ".py"
  },
  "kernelspec": {
   "name": "python3",
   "display_name": "Python 3.7.4 64-bit ('base': conda)"
  },
  "interpreter": {
   "hash": "19f89a0817607bfc657fd284dd706df77cdeb48d05126466acdf5bb89525e578"
  }
 },
 "nbformat": 4,
 "nbformat_minor": 2
}