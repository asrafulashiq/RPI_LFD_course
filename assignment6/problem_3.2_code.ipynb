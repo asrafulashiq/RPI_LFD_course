{
 "cells": [
  {
   "cell_type": "code",
   "execution_count": 1,
   "metadata": {},
   "outputs": [],
   "source": [
    "import numpy as np\n",
    "import matplotlib.pyplot as plt\n",
    "%matplotlib inline"
   ]
  },
  {
   "cell_type": "code",
   "execution_count": 2,
   "metadata": {},
   "outputs": [],
   "source": [
    "np.random.seed(12)"
   ]
  },
  {
   "cell_type": "markdown",
   "metadata": {},
   "source": [
    "# Generate Data"
   ]
  },
  {
   "cell_type": "code",
   "execution_count": 3,
   "metadata": {},
   "outputs": [],
   "source": [
    "\n",
    "sep_list = np.arange(0.2, 5.01, 0.2)\n",
    "iter_list = []\n",
    "for sep in sep_list:\n",
    "    rad = 10\n",
    "    thk = 5\n",
    "\n",
    "    N_class = 1000\n",
    "\n",
    "\n",
    "    def get_half(center_x=0, center_y=0, rad=10, thk=5):\n",
    "        R_data = np.random.rand(N_class) * thk + rad\n",
    "        Theta_data = np.random.rand(N_class) * np.pi\n",
    "\n",
    "        X = center_x + R_data * np.cos(Theta_data)\n",
    "        Y = center_y + R_data * np.sin(Theta_data)\n",
    "        return X, Y\n",
    "\n",
    "    # top half\n",
    "    X_p, Y_p = get_half(0, 0)\n",
    "    Y_p = Y_p + sep / 2\n",
    "\n",
    "    # bottom half\n",
    "    X_n, Y_n = get_half(12.5, 0)\n",
    "    Y_n = -Y_n - sep / 2\n",
    "\n",
    "    XY_p = np.stack((X_p, Y_p), axis=1)\n",
    "    XY_n = np.stack((X_n, Y_n), axis=1)\n",
    "\n",
    "    Data = np.concatenate((XY_p, XY_n), axis=0)\n",
    "\n",
    "    # augment with 1 in the beginning\n",
    "    Data_aug = np.concatenate((np.ones(len(Data)).reshape(-1, 1), Data), axis=1)\n",
    "    Label = np.concatenate((np.ones(N_class), -np.ones(N_class)))\n",
    "\n",
    "    # PLA algorithm\n",
    "\n",
    "    w = np.zeros(3)  # initial weight\n",
    "\n",
    "    iteration = 0\n",
    "    while True:\n",
    "        h = (np.dot(Data_aug, w) > 0) * 2 - 1\n",
    "\n",
    "        # get misclassified data\n",
    "        misclassified_index = (h != Label).nonzero()[0]\n",
    "\n",
    "        if len(misclassified_index) == 0:\n",
    "            # PLA terminate\n",
    "            break\n",
    "\n",
    "        # randomly pick one\n",
    "        index_rand = np.random.choice(misclassified_index)\n",
    "\n",
    "        # update w\n",
    "        w = w + Label[index_rand] * Data_aug[index_rand]\n",
    "\n",
    "        iteration += 1\n",
    "    iter_list.append(iteration)\n"
   ]
  },
  {
   "cell_type": "code",
   "execution_count": 4,
   "metadata": {},
   "outputs": [
    {
     "data": {
      "text/plain": [
       "Text(0, 0.5, 'Iteration')"
      ]
     },
     "execution_count": 4,
     "metadata": {},
     "output_type": "execute_result"
    },
    {
     "data": {
      "image/png": "[encoded data removed]",
      "text/plain": [
       "<Figure size 432x288 with 1 Axes>"
      ]
     },
     "metadata": {
      "needs_background": "light"
     },
     "output_type": "display_data"
    }
   ],
   "source": [
    "plt.plot(sep_list, iter_list)\n",
    "plt.xlabel('Separation')\n",
    "plt.ylabel('Iteration')"
   ]
  },
  {
   "cell_type": "code",
   "execution_count": null,
   "metadata": {},
   "outputs": [],
   "source": []
  }
 ],
 "metadata": {
  "interpreter": {
   "hash": "d62b51597be18f93944234ad292c57717caf7c6510d2cf4ef79736ceb572ac63"
  },
  "kernelspec": {
   "display_name": "Python 3.7.4 64-bit ('base': conda)",
   "name": "python3"
  },
  "language_info": {
   "codemirror_mode": {
    "name": "ipython",
    "version": 3
   },
   "file_extension": ".py",
   "mimetype": "text/x-python",
   "name": "python",
   "nbconvert_exporter": "python",
   "pygments_lexer": "ipython3",
   "version": "3.7.4"
  },
  "orig_nbformat": 4
 },
 "nbformat": 4,
 "nbformat_minor": 2
}
