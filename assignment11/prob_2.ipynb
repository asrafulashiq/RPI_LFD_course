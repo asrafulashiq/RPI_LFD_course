{
 "cells": [
  {
   "cell_type": "code",
   "execution_count": 14,
   "metadata": {},
   "outputs": [],
   "source": [
    "import numpy as np\n",
    "import matplotlib.pyplot as plt\n",
    "%matplotlib inline\n",
    "from tqdm import tqdm\n",
    "\n",
    "import seaborn as sns\n",
    "sns.set_style('whitegrid')\n"
   ]
  },
  {
   "cell_type": "code",
   "execution_count": 15,
   "metadata": {},
   "outputs": [],
   "source": [
    "# ----------------------- Data loading and preprocessig ---------------------- #\n",
    "\n",
    "file_train = 'ZipDigits.train'\n",
    "file_test = 'ZipDigits.test'\n",
    "\n",
    "\n",
    "def read_data(file_name):\n",
    "    digits = []\n",
    "    images = []\n",
    "    with open(file_name, 'r') as f:\n",
    "        for line in f:\n",
    "            line = line.strip().split(' ')\n",
    "            line = [float(i) for i in line]\n",
    "            digit = int(line[0])\n",
    "            data = line[1:]\n",
    "            images.append(data)\n",
    "            digits.append(digit)\n",
    "    return np.array(images), np.array(digits)\n",
    "\n",
    "\n",
    "def get_features(file_name):\n",
    "    images, digits = read_data(file_name)\n",
    "    images = images.reshape(-1, 16, 16)\n",
    "    images = (images + 1) / 2  # normalize between [0,1]\n",
    "\n",
    "    index = (digits == 1) | (digits == 5)\n",
    "    images = images[index]\n",
    "    digits = digits[index]\n",
    "\n",
    "    # Extract feature\n",
    "    intensities = images.reshape(-1, 16 * 16).mean(axis=-1)\n",
    "    symmetry = np.power(images[..., ::-1] - images,\n",
    "                        2).reshape(images.shape[0], -1).mean(axis=-1)\n",
    "\n",
    "    ind_1 = (digits == 1)\n",
    "    ind_5 = (digits == 5)\n",
    "    labels = np.zeros(digits.shape[0])\n",
    "    labels[ind_1] = 1\n",
    "    labels[ind_5] = -1\n",
    "    features = np.concatenate((intensities[:, None], symmetry[:, None]),\n",
    "                              axis=1)\n",
    "    return features, labels\n",
    "\n",
    "\n",
    "# ------------------------------ train features ------------------------------ #\n",
    "features_train, labels_train = get_features(file_train)\n",
    "\n",
    "# ------------------------------- test features ------------------------------ #\n",
    "features_test, labels_test = get_features(file_test)\n",
    "\n",
    "# ----------------------------- combine the data ----------------------------- #\n",
    "features = np.concatenate((features_train, features_test), axis=0)\n",
    "labels = np.concatenate((labels_train, labels_test), axis=0)\n",
    "\n",
    "# ---------------------------- normalize features ---------------------------- #\n",
    "import sklearn.preprocessing as preprocessing\n",
    "\n",
    "features = preprocessing.MinMaxScaler(\n",
    "    feature_range=(-1, 1)).fit_transform(features)\n",
    "\n",
    " # --------------------------- split test and train --------------------------- #\n",
    "from sklearn.model_selection import train_test_split\n",
    "\n",
    "features_train, features_test, labels_train, labels_test = train_test_split(\n",
    "    features, labels, train_size=300, random_state=42)"
   ]
  },
  {
   "cell_type": "code",
   "execution_count": 16,
   "metadata": {},
   "outputs": [],
   "source": [
    "# Voronoi clustering\n",
    "from numpy import unravel_index\n",
    "from scipy.spatial import distance\n",
    "\n",
    "\n",
    "def dist_from_set(X, centers):\n",
    "    dist = distance.cdist(centers, X)  # (p, N)\n",
    "    dist_min = dist.min(axis=0)  # (N,)\n",
    "    _ind = dist_min.argmax()\n",
    "    return dist_min.max(), _ind\n",
    "\n",
    "\n",
    "def get_clusters(X, num_partition=10):\n",
    "    centers = np.random.rand(num_partition, X.shape[-1])  # (p, 2)\n",
    "    center = X[np.random.choice(X.shape[0])]\n",
    "    centers[:] = center\n",
    "\n",
    "    for i in range(1, num_partition):\n",
    "        # calculate the distance from each point to the center\n",
    "        dist_set, _ind = dist_from_set(X, centers)\n",
    "        center = X[_ind]\n",
    "        centers[i] = center\n",
    "\n",
    "    # Voronoi cluster\n",
    "    dist = distance.cdist(centers, X)  # (p, N)\n",
    "    nearest_ind = dist.argmin(axis=0)  # (N,)\n",
    "\n",
    "    # Clusters = []\n",
    "\n",
    "    for i in range(num_partition):\n",
    "        centers[i] = X[nearest_ind == i].mean(axis=0)\n",
    "    return centers"
   ]
  },
  {
   "cell_type": "code",
   "execution_count": 17,
   "metadata": {},
   "outputs": [],
   "source": [
    "# implement logistic regression classifier\n",
    "class LogisticRegression:\n",
    "    def __init__(self, lr=0.1, num_iter=500, fit_intercept=True,\n",
    "                 verbose=False, *args, **kwargs):\n",
    "        self.lr = lr\n",
    "        self.num_iter = num_iter\n",
    "        self.fit_intercept = fit_intercept\n",
    "        self.verbose = verbose\n",
    "\n",
    "    def __add_intercept(self, X):\n",
    "        intercept = np.ones((X.shape[0], 1))\n",
    "        return np.concatenate((intercept, X), axis=1)\n",
    "\n",
    "    def __sigmoid(self, z):\n",
    "        return 1 / (1 + np.exp(-z))\n",
    "\n",
    "    def __loss(self, h, y):\n",
    "        return (-y * np.log(h) - (1 - y) * np.log(1 - h)).mean()\n",
    "\n",
    "    def fit(self, X, y):\n",
    "        y = (y + 1.) / 2\n",
    "        if self.fit_intercept:\n",
    "            X = self.__add_intercept(X)\n",
    "\n",
    "        # weights initialization\n",
    "        self.theta = np.zeros(X.shape[1])\n",
    "\n",
    "        # gradient descent\n",
    "        for i in range(self.num_iter):\n",
    "            z = np.dot(X, self.theta)\n",
    "            h = self.__sigmoid(z)\n",
    "            gradient = np.dot(X.T, (h - y)) / y.size\n",
    "            self.theta -= self.lr * gradient\n",
    "\n",
    "            z = np.dot(X, self.theta)\n",
    "            h = self.__sigmoid(z)\n",
    "            loss = self.__loss(h, y)\n",
    "\n",
    "            if (self.verbose == True and i % 10000 == 0):\n",
    "                print(f'loss: {loss} \\t')\n",
    "        return self\n",
    "\n",
    "    def predict_prob(self, X):\n",
    "        if self.fit_intercept:\n",
    "            X = self.__add_intercept(X)\n",
    "        return self.__sigmoid(np.dot(X, self.theta))\n",
    "    \n",
    "    def predict(self, X, threshold=0.5):\n",
    "        preds = self.predict_prob(X) >= threshold\n",
    "        preds = (preds.astype(float) * 2 - 1).astype(int)\n",
    "        return preds"
   ]
  },
  {
   "cell_type": "code",
   "execution_count": 18,
   "metadata": {},
   "outputs": [],
   "source": [
    "# RBF-kernel Network Model\n",
    "# from sklearn.linear_model import LogisticRegression\n",
    "\n",
    "class RBFNet:\n",
    "    def __init__(self, X, Y, k=4) -> None:\n",
    "        self.X = X\n",
    "        self.Y = Y\n",
    "\n",
    "        # number of bumps\n",
    "        self.k = k\n",
    "        self.r = 2 / np.sqrt(k)\n",
    "\n",
    "        # find cluster center\n",
    "        self.x_mu = get_clusters(X, self.k)\n",
    "\n",
    "        # find parametrs\n",
    "        self.fit()\n",
    "\n",
    "    def fit(self):\n",
    "        # compute feature matrics Z: N x (k+1)\n",
    "        # self.X: N x 2\n",
    "        # self.x_mu: k x 2\n",
    "        Z = self.compute_psi(self.X, self.x_mu)\n",
    "\n",
    "        # compute weights\n",
    "        self.lin_clf = LogisticRegression(random_state=42).fit(Z, self.Y)\n",
    "        return self\n",
    "\n",
    "    def compute_psi(self, X, u):\n",
    "        # X: N x 2: N x 1 x 2\n",
    "        # u: k x 2: 1 x k x 2\n",
    "        # Z: N x k\n",
    "        Z = self.rbf(\n",
    "            np.linalg.norm(X[:, None] - u[None], axis=-1) \n",
    "            / self.r)\n",
    "        return Z\n",
    "\n",
    "    def rbf(self, z):\n",
    "        return np.exp(-0.5 * z**2)\n",
    "\n",
    "    def predict(self, x):\n",
    "        preds = self.lin_clf.predict(\n",
    "            self.compute_psi(x, self.x_mu)\n",
    "        )\n",
    "        return preds\n"
   ]
  },
  {
   "cell_type": "code",
   "execution_count": 19,
   "metadata": {},
   "outputs": [
    {
     "name": "stderr",
     "output_type": "stream",
     "text": [
      "100%|██████████| 49/49 [13:46<00:00, 16.87s/it]"
     ]
    },
    {
     "name": "stdout",
     "output_type": "stream",
     "text": [
      "optimal error:  0.03\n",
      "optimal k: 44\n"
     ]
    },
    {
     "name": "stderr",
     "output_type": "stream",
     "text": [
      "\n"
     ]
    }
   ],
   "source": [
    "dict_info = {}\n",
    "for k in tqdm(range(1, 50)):\n",
    "    e_cv = []\n",
    "    for i in range(len(features_train)):\n",
    "        X_train, y_train = np.delete(features_train, i,\n",
    "                                     axis=0), np.delete(labels_train, i)\n",
    "        X_val, y_val = features_train[[i]], labels_train[[i]]\n",
    "        knnClf = RBFNet(X_train, y_train, k=k)\n",
    "        pred = knnClf.predict(X_val)\n",
    "        acc_score = np.mean(pred == y_val)\n",
    "        e_cv.append(1 - acc_score)\n",
    "    avg_e_cv = np.mean(e_cv)\n",
    "    dict_info[k] = avg_e_cv\n",
    "    # print(f'k={k}, e_cv={avg_e_cv}')\n",
    "\n",
    "ind_opt = np.argmin(list(dict_info.values()))\n",
    "opt_k = list(dict_info.keys())[ind_opt]\n",
    "print('optimal error: ', dict_info[opt_k])\n",
    "print('optimal k:', opt_k)\n"
   ]
  },
  {
   "cell_type": "code",
   "execution_count": 20,
   "metadata": {},
   "outputs": [
    {
     "name": "stdout",
     "output_type": "stream",
     "text": [
      "E_in: 0.030000000000000027\n"
     ]
    }
   ],
   "source": [
    "knnClf = RBFNet(features_train, labels_train, k=opt_k)\n",
    "pred_train = knnClf.predict(features_train)\n",
    "acc_score = np.mean(pred_train == labels_train)\n",
    "E_in = 1 - acc_score\n",
    "print('E_in:', E_in)"
   ]
  },
  {
   "cell_type": "code",
   "execution_count": 21,
   "metadata": {},
   "outputs": [
    {
     "data": {
      "text/plain": [
       "Text(0, 0.5, 'E_cv')"
      ]
     },
     "execution_count": 21,
     "metadata": {},
     "output_type": "execute_result"
    },
    {
     "data": {
      "image/png": "[encoded data removed]",
      "text/plain": [
       "<Figure size 432x288 with 1 Axes>"
      ]
     },
     "metadata": {},
     "output_type": "display_data"
    }
   ],
   "source": [
    "plt.plot(list(dict_info.keys()), list(dict_info.values()))\n",
    "plt.xlabel('k')\n",
    "plt.ylabel('E_cv')"
   ]
  },
  {
   "cell_type": "code",
   "execution_count": 22,
   "metadata": {},
   "outputs": [],
   "source": [
    "knnClf = RBFNet(features_train, labels_train, k=opt_k)"
   ]
  },
  {
   "cell_type": "code",
   "execution_count": 23,
   "metadata": {},
   "outputs": [
    {
     "data": {
      "text/plain": [
       "<matplotlib.collections.PathCollection at 0x7f01390c7190>"
      ]
     },
     "execution_count": 23,
     "metadata": {},
     "output_type": "execute_result"
    },
    {
     "data": {
      "image/png": "[encoded data removed]",
      "text/plain": [
       "<Figure size 576x432 with 1 Axes>"
      ]
     },
     "metadata": {},
     "output_type": "display_data"
    }
   ],
   "source": [
    "from matplotlib.colors import ListedColormap\n",
    "\n",
    "cmap_light = ListedColormap([\"orange\", \"green\"])\n",
    "cmap_dark = ListedColormap([\"darkorange\", \"darkgreen\"])\n",
    "\n",
    "xx, yy = np.meshgrid(np.arange(-1, 1, 0.01), np.arange(-1, 1, 0.01))\n",
    "Z = knnClf.predict(np.c_[xx.ravel(), yy.ravel()])\n",
    "Z = Z.reshape(xx.shape)\n",
    "\n",
    "plt.figure(figsize=(8, 6))\n",
    "plt.contourf(xx, yy, Z, cmap=cmap_light)\n",
    "plt.scatter(features_train[:, 0], features_train[:, 1], c=labels_train, s=70, cmap=cmap_dark, edgecolors=\"black\")\n"
   ]
  },
  {
   "cell_type": "markdown",
   "metadata": {},
   "source": [
    "# (c)\n",
    "\n",
    "What is the test error E_test?"
   ]
  },
  {
   "cell_type": "code",
   "execution_count": 24,
   "metadata": {},
   "outputs": [
    {
     "name": "stdout",
     "output_type": "stream",
     "text": [
      "E_test: 0.027893175074183985\n"
     ]
    }
   ],
   "source": [
    "pred_test = knnClf.predict(features_test)\n",
    "acc_score = np.mean(pred_test == labels_test)\n",
    "E_test = 1 - acc_score\n",
    "print('E_test:', E_test)"
   ]
  }
 ],
 "metadata": {
  "interpreter": {
   "hash": "d62b51597be18f93944234ad292c57717caf7c6510d2cf4ef79736ceb572ac63"
  },
  "kernelspec": {
   "display_name": "Python 3.7.4 64-bit ('base': conda)",
   "language": "python",
   "name": "python3"
  },
  "language_info": {
   "codemirror_mode": {
    "name": "ipython",
    "version": 3
   },
   "file_extension": ".py",
   "mimetype": "text/x-python",
   "name": "python",
   "nbconvert_exporter": "python",
   "pygments_lexer": "ipython3",
   "version": "3.7.4"
  },
  "orig_nbformat": 4
 },
 "nbformat": 4,
 "nbformat_minor": 2
}
