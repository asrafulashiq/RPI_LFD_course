{
 "cells": [
  {
   "cell_type": "code",
   "execution_count": 17,
   "metadata": {},
   "outputs": [],
   "source": [
    "import numpy as np\n",
    "import matplotlib.pyplot as plt\n",
    "%matplotlib inline\n",
    "import seaborn as sns\n",
    "sns.set_style('whitegrid')"
   ]
  },
  {
   "cell_type": "code",
   "execution_count": 18,
   "metadata": {},
   "outputs": [
    {
     "name": "stdout",
     "output_type": "stream",
     "text": [
      "[1 0]\n",
      "[-1  0]\n"
     ]
    },
    {
     "data": {
      "text/plain": [
       "<matplotlib.legend.Legend at 0x7fe56e7bcf10>"
      ]
     },
     "execution_count": 18,
     "metadata": {},
     "output_type": "execute_result"
    },
    {
     "data": {
      "image/png": "[encoded data removed]",
      "text/plain": [
       "<Figure size 432x288 with 1 Axes>"
      ]
     },
     "metadata": {},
     "output_type": "display_data"
    }
   ],
   "source": [
    "x1 = np.array([1, 0])\n",
    "x2 = np.array([-1, 0])\n",
    "\n",
    "# decision line\n",
    "fig, ax = plt.subplots()\n",
    "ax.scatter(x1[0], x1[1], c='r', marker='o')\n",
    "ax.scatter(x2[0], x2[1], c='g', marker='x')\n",
    "\n",
    "# plot line\n",
    "yy = np.linspace(-3, 3, 100)\n",
    "xx = np.zeros_like(yy)\n",
    "ax.plot(xx, yy, color='k', label='x-space')\n",
    "\n",
    "\n",
    "transform_z = lambda x: np.array([x[0]**3 - x[1], x[0] * x[1]])\n",
    "\n",
    "z1 = transform_z(x1)\n",
    "z2 = transform_z(x2)\n",
    "\n",
    "print(z1)\n",
    "print(z2)\n",
    "\n",
    "# decision line\n",
    "xx = np.linspace(-1.5, 1.5, 100)\n",
    "yy = xx**3\n",
    "ax.plot(xx, yy, color='b', label='z-space')\n",
    "ax.legend()"
   ]
  },
  {
   "cell_type": "code",
   "execution_count": null,
   "metadata": {},
   "outputs": [],
   "source": []
  }
 ],
 "metadata": {
  "interpreter": {
   "hash": "d62b51597be18f93944234ad292c57717caf7c6510d2cf4ef79736ceb572ac63"
  },
  "kernelspec": {
   "display_name": "Python 3.7.4 64-bit ('base': conda)",
   "language": "python",
   "name": "python3"
  },
  "language_info": {
   "codemirror_mode": {
    "name": "ipython",
    "version": 3
   },
   "file_extension": ".py",
   "mimetype": "text/x-python",
   "name": "python",
   "nbconvert_exporter": "python",
   "pygments_lexer": "ipython3",
   "version": "3.7.4"
  },
  "orig_nbformat": 4
 },
 "nbformat": 4,
 "nbformat_minor": 2
}
