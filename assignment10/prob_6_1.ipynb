{
 "cells": [
  {
   "cell_type": "code",
   "execution_count": 87,
   "metadata": {},
   "outputs": [],
   "source": [
    "import numpy as np\n",
    "import matplotlib.pyplot as plt\n",
    "import collections\n",
    "from matplotlib.colors import ListedColormap\n",
    "\n",
    "%matplotlib inline"
   ]
  },
  {
   "cell_type": "code",
   "execution_count": 107,
   "metadata": {},
   "outputs": [],
   "source": [
    "X = np.asarray([\n",
    "    [1, 0],\n",
    "    [0, 1],\n",
    "    [0, -1],\n",
    "    [-1, 0],\n",
    "    [0, 2],\n",
    "    [0, -2],\n",
    "    [-2, 0]\n",
    "], dtype=np.float)\n",
    "Y = np.asarray([-1, -1, -1, -1, 1, 1, 1])"
   ]
  },
  {
   "cell_type": "code",
   "execution_count": 108,
   "metadata": {},
   "outputs": [],
   "source": [
    "class KNNClassifier(object):\n",
    "    def __init__(self, X, Y):\n",
    "        self.X = X  # shape: (n, d)\n",
    "        self.Y = Y  # shape: (n,)\n",
    "        \n",
    "    def predict(self, x, K=1):\n",
    "        k, d = x.shape\n",
    "        n, d = self.X.shape\n",
    "        x = x.reshape(k, 1, d) \n",
    "        Data = self.X.reshape(1, n, d)\n",
    "        distance = self.distance(x, Data)  # shape: (k, n)\n",
    "        # (k, 1, d) - (1, n, d) -> (k, n, d)-> (k, n)\n",
    "        \n",
    "        ind = np.argsort(distance, axis=-1)[:, :K]  # shape: (k, K)\n",
    "        K_classes = self.Y[ind]\n",
    "        # print(ind, k, distance.shape, ind.shape, K_classes)\n",
    "        pred = []\n",
    "        for i in range(k):\n",
    "            mod = collections.Counter(K_classes[i]).most_common()[0][0]\n",
    "            pred.append(mod)\n",
    "        return np.asarray(pred)\n",
    "\n",
    "    def distance(self, x, y, axis=-1):\n",
    "        return np.linalg.norm(x - y, axis=-1)"
   ]
  },
  {
   "cell_type": "code",
   "execution_count": 109,
   "metadata": {},
   "outputs": [],
   "source": [
    "knnClf = KNNClassifier(X, Y)"
   ]
  },
  {
   "cell_type": "markdown",
   "metadata": {},
   "source": [
    "# (a) Show the decision regions for the 1-NN and 3-NN rules"
   ]
  },
  {
   "cell_type": "markdown",
   "metadata": {},
   "source": [
    "## 1-NN"
   ]
  },
  {
   "cell_type": "code",
   "execution_count": 110,
   "metadata": {},
   "outputs": [
    {
     "data": {
      "text/plain": [
       "<matplotlib.collections.PathCollection at 0x7f52fd245358>"
      ]
     },
     "execution_count": 110,
     "metadata": {},
     "output_type": "execute_result"
    },
    {
     "data": {
      "image/png": "[encoded data removed]",
      "text/plain": [
       "<matplotlib.figure.Figure at 0x7f52fd0fcf28>"
      ]
     },
     "metadata": {},
     "output_type": "display_data"
    }
   ],
   "source": [
    "cmap_light = ListedColormap([\"orange\", \"green\"])\n",
    "cmap_dark = ListedColormap([\"darkorange\", \"darkgreen\"])\n",
    "\n",
    "\n",
    "xx, yy = np.meshgrid(np.arange(-2.5, 2.5, 0.1), np.arange(-2.5, 2.5, 0.1))\n",
    "Z = knnClf.predict(np.c_[xx.ravel(), yy.ravel()], K=1)\n",
    "Z = Z.reshape(xx.shape)\n",
    "\n",
    "plt.figure(figsize=(8, 6))\n",
    "plt.contourf(xx, yy, Z, cmap=cmap_light)\n",
    "plt.scatter(X[:, 0], X[:, 1], c=Y, s=70, cmap=cmap_dark, edgecolors=\"black\")"
   ]
  },
  {
   "cell_type": "markdown",
   "metadata": {},
   "source": [
    "## 3-NN"
   ]
  },
  {
   "cell_type": "code",
   "execution_count": 111,
   "metadata": {},
   "outputs": [
    {
     "data": {
      "text/plain": [
       "<matplotlib.collections.PathCollection at 0x7f52fd0a3940>"
      ]
     },
     "execution_count": 111,
     "metadata": {},
     "output_type": "execute_result"
    },
    {
     "data": {
      "image/png": "[encoded data removed]",
      "text/plain": [
       "<matplotlib.figure.Figure at 0x7f52fd2e7da0>"
      ]
     },
     "metadata": {},
     "output_type": "display_data"
    }
   ],
   "source": [
    "cmap_light = ListedColormap([\"orange\", \"green\"])\n",
    "cmap_dark = ListedColormap([\"darkorange\", \"darkgreen\"])\n",
    "\n",
    "xx, yy = np.meshgrid(np.arange(-2.5, 2.5, 0.1), np.arange(-2.5, 2.5, 0.1))\n",
    "Z = knnClf.predict(np.c_[xx.ravel(), yy.ravel()], K=3).reshape(xx.shape)\n",
    "Z = Z.reshape(xx.shape)\n",
    "\n",
    "plt.figure(figsize=(8, 6))\n",
    "plt.contourf(xx, yy, Z, cmap=cmap_light)\n",
    "plt.scatter(X[:, 0], X[:, 1], c=Y, s=70, cmap=cmap_dark, edgecolors=\"black\")"
   ]
  },
  {
   "cell_type": "markdown",
   "metadata": {},
   "source": [
    "# (b) non-linear transform"
   ]
  },
  {
   "cell_type": "code",
   "execution_count": 133,
   "metadata": {},
   "outputs": [],
   "source": [
    "def nonlinear_fn(x):\n",
    "    z = np.zeros_like(x)\n",
    "    z[:, 0] = np.sqrt(x[:, 0]**2 + x[:, 1]**2)\n",
    "    # z[:, 1] = np.arctan2(x[:, 1], x[:, 0])\n",
    "    z[:, 1] = np.arctan(x[:, 1] / (x[:, 0]+1e-5))\n",
    "    return z"
   ]
  },
  {
   "cell_type": "code",
   "execution_count": 134,
   "metadata": {},
   "outputs": [],
   "source": [
    "knnClfNonlinear = KNNClassifier(nonlinear_fn(X), Y)\n"
   ]
  },
  {
   "cell_type": "markdown",
   "metadata": {},
   "source": [
    "## 1-NN"
   ]
  },
  {
   "cell_type": "code",
   "execution_count": 136,
   "metadata": {},
   "outputs": [
    {
     "data": {
      "text/plain": [
       "<matplotlib.collections.PathCollection at 0x7f52fcdf1940>"
      ]
     },
     "execution_count": 136,
     "metadata": {},
     "output_type": "execute_result"
    },
    {
     "data": {
      "image/png": "[encoded data removed]",
      "text/plain": [
       "<matplotlib.figure.Figure at 0x7f52fcfd9780>"
      ]
     },
     "metadata": {},
     "output_type": "display_data"
    }
   ],
   "source": [
    "cmap_light = ListedColormap([\"orange\", \"green\"])\n",
    "cmap_dark = ListedColormap([\"darkorange\", \"darkgreen\"])\n",
    "\n",
    "xx, yy = np.meshgrid(np.arange(-2.5, 2.5, 0.1), np.arange(-2.5, 2.5, 0.1))\n",
    "xy = np.c_[xx.ravel(), yy.ravel()]\n",
    "xy_non = nonlinear_fn(xy)\n",
    "Z = knnClfNonlinear.predict(xy_non , K=1)\n",
    "Z = Z.reshape(xx.shape)\n",
    "\n",
    "plt.figure(figsize=(8, 6))\n",
    "plt.contourf(xx, yy, Z, cmap=cmap_light)\n",
    "plt.scatter(X[:, 0], X[:, 1], c=Y, s=70, cmap=cmap_dark, edgecolors=\"black\")"
   ]
  },
  {
   "cell_type": "code",
   "execution_count": 137,
   "metadata": {},
   "outputs": [
    {
     "data": {
      "text/plain": [
       "<matplotlib.collections.PathCollection at 0x7f52fcf1fc50>"
      ]
     },
     "execution_count": 137,
     "metadata": {},
     "output_type": "execute_result"
    },
    {
     "data": {
      "image/png": "[encoded data removed]",
      "text/plain": [
       "<matplotlib.figure.Figure at 0x7f52fce6b160>"
      ]
     },
     "metadata": {},
     "output_type": "display_data"
    }
   ],
   "source": [
    "cmap_light = ListedColormap([\"orange\", \"green\"])\n",
    "cmap_dark = ListedColormap([\"darkorange\", \"darkgreen\"])\n",
    "\n",
    "xx, yy = np.meshgrid(np.arange(-2.5, 2.5, 0.1), np.arange(-2.5, 2.5, 0.1))\n",
    "xy = np.c_[xx.ravel(), yy.ravel()]\n",
    "xy_non = nonlinear_fn(xy)\n",
    "Z = knnClfNonlinear.predict(xy_non, K=3)\n",
    "Z = Z.reshape(xx.shape)\n",
    "\n",
    "plt.figure(figsize=(8, 6))\n",
    "plt.contourf(xx, yy, Z, cmap=cmap_light)\n",
    "plt.scatter(X[:, 0], X[:, 1], c=Y, s=70, cmap=cmap_dark, edgecolors=\"black\")"
   ]
  }
 ],
 "metadata": {
  "interpreter": {
   "hash": "31f2aee4e71d21fbe5cf8b01ff0e069b9275f58929596ceb00d14d90e3e16cd6"
  },
  "kernelspec": {
   "display_name": "Python 3.6.9 64-bit",
   "language": "python",
   "name": "python3"
  },
  "language_info": {
   "codemirror_mode": {
    "name": "ipython",
    "version": 3
   },
   "file_extension": ".py",
   "mimetype": "text/x-python",
   "name": "python",
   "nbconvert_exporter": "python",
   "pygments_lexer": "ipython3",
   "version": "3.6.9"
  },
  "orig_nbformat": 4
 },
 "nbformat": 4,
 "nbformat_minor": 2
}
